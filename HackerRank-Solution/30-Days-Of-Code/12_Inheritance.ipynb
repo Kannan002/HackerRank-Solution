{
  "nbformat": 4,
  "nbformat_minor": 0,
  "metadata": {
    "colab": {
      "name": "12_Inheritance.ipynb",
      "provenance": [],
      "collapsed_sections": [],
      "authorship_tag": "ABX9TyN7iwWnY47/eSrpb/fuCo7D",
      "include_colab_link": true
    },
    "kernelspec": {
      "name": "python3",
      "display_name": "Python 3"
    }
  },
  "cells": [
    {
      "cell_type": "markdown",
      "metadata": {
        "id": "view-in-github",
        "colab_type": "text"
      },
      "source": [
        "<a href=\"https://colab.research.google.com/github/kannan-ravi/HackerRank-Solution/blob/main/HackerRank-Solution/30-Days-Of-Code/12_Inheritance.ipynb\" target=\"_parent\"><img src=\"https://colab.research.google.com/assets/colab-badge.svg\" alt=\"Open In Colab\"/></a>"
      ]
    },
    {
      "cell_type": "markdown",
      "metadata": {
        "id": "4GLaobmEdQVZ"
      },
      "source": [
        "**Average** - (100+80)/2\r\n",
        "\r\n",
        "* **O** - 90 <= a <= 100\r\n",
        "* **E** - 80 <= a <= 90\r\n",
        "* **A** - 70 <= a <= 80\r\n",
        "* **P** - 55 <= a <= 70\r\n",
        "* **D** - 40 <= a <= 55\r\n",
        "* **T** - a < 40"
      ]
    },
    {
      "cell_type": "code",
      "metadata": {
        "id": "EiIBn5eHY9bJ"
      },
      "source": [
        "class Person:\r\n",
        "    def __init__(self, firstName, lastName, idNum):\r\n",
        "        self.firstName = firstName\r\n",
        "        self.lastName = lastName\r\n",
        "        self.idNum = idNum\r\n",
        "        \r\n",
        "    def printPerson(self):\r\n",
        "        print(\"Name:\", self.lastName + \",\", self.firstName)\r\n",
        "        print(\"ID:\", self.idNum)\r\n",
        "\r\n",
        "class Student(Person):\r\n",
        "    def __init__(self, firstName, lastName, idNum, scores):\r\n",
        "        super().__init__(firstName, lastName, idNum)\r\n",
        "        self.scores = scores\r\n",
        "    \r\n",
        "\r\n",
        "    def calculate(self):\r\n",
        "        grade = sum(self.scores) / len(self.scores)\r\n",
        "        if grade < 40:\r\n",
        "            return \"T\"\r\n",
        "        elif grade >= 40 and grade < 55:\r\n",
        "            return \"D\"\r\n",
        "        elif grade >= 55 and grade < 70:\r\n",
        "            return \"P\"\r\n",
        "        elif grade >=70 and grade < 80:\r\n",
        "            return \"A\"\r\n",
        "        elif grade >= 80 and grade < 90:\r\n",
        "            return \"E\"\r\n",
        "        elif grade >= 90 and grade <= 100:\r\n",
        "            return \"O\"\r\n",
        "\r\n",
        "line = input().split()\r\n",
        "firstName = line[0]\r\n",
        "lastName = line[1]\r\n",
        "idNum = line[2]\r\n",
        "#numScores = int(input()) # not needed for Python\r\n",
        "scores = list( map(int, input().split()) )\r\n",
        "print(scores)\r\n",
        "print(sum(scores)/len(scores))\r\n",
        "s = Student(firstName, lastName, idNum, scores)\r\n",
        "s.printPerson()\r\n",
        "print(\"Grade:\", s.calculate())"
      ],
      "execution_count": null,
      "outputs": []
    }
  ]
}